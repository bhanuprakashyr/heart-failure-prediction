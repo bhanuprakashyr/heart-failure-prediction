{
 "cells": [
  {
   "cell_type": "markdown",
   "id": "e8594dbc-27fd-485c-9e48-f4c0674ec206",
   "metadata": {},
   "source": [
    "# Heart Disease Analysis"
   ]
  },
  {
   "cell_type": "code",
   "execution_count": 2,
   "id": "b3ccc467-75a1-4206-a7c5-b5ef5a96c8a1",
   "metadata": {},
   "outputs": [],
   "source": [
    "import pandas as pd\n",
    "import numpy as np"
   ]
  },
  {
   "cell_type": "code",
   "execution_count": 3,
   "id": "314212f7-1ee0-4dd6-abcf-c884c7f6df36",
   "metadata": {},
   "outputs": [
    {
     "name": "stdout",
     "output_type": "stream",
     "text": [
      "<class 'pandas.core.frame.DataFrame'>\n",
      "RangeIndex: 918 entries, 0 to 917\n",
      "Data columns (total 12 columns):\n",
      " #   Column          Non-Null Count  Dtype  \n",
      "---  ------          --------------  -----  \n",
      " 0   Age             918 non-null    int64  \n",
      " 1   Sex             918 non-null    object \n",
      " 2   ChestPainType   918 non-null    object \n",
      " 3   RestingBP       918 non-null    int64  \n",
      " 4   Cholesterol     918 non-null    int64  \n",
      " 5   FastingBS       918 non-null    int64  \n",
      " 6   RestingECG      918 non-null    object \n",
      " 7   MaxHR           918 non-null    int64  \n",
      " 8   ExerciseAngina  918 non-null    object \n",
      " 9   Oldpeak         918 non-null    float64\n",
      " 10  ST_Slope        918 non-null    object \n",
      " 11  HeartDisease    918 non-null    int64  \n",
      "dtypes: float64(1), int64(6), object(5)\n",
      "memory usage: 86.2+ KB\n"
     ]
    }
   ],
   "source": [
    "# Load the Data\n",
    "\n",
    "heart_data = pd.read_csv(filepath_or_buffer='heart.csv')\n",
    "\n",
    "\n",
    "# Details about the Data\n",
    "heart_data.info()"
   ]
  },
  {
   "cell_type": "markdown",
   "id": "184d9450-1295-48f0-8333-ca000ac05776",
   "metadata": {},
   "source": [
    "1. The data set contains a total of 918 Observations of over 11 different attributes related to heart which help us to predict presence of heart disease\n",
    "2. Total size of the data is 86 KiloBytes\n",
    "3. There are total of 12 columns, Out of which 6 are Integer, 1 column with decimal values and remaining 5 are Strings"
   ]
  },
  {
   "cell_type": "code",
   "execution_count": 4,
   "id": "3cdfc205-1f65-4924-ab0e-23eaa9f561e8",
   "metadata": {},
   "outputs": [
    {
     "data": {
      "text/html": [
       "<div>\n",
       "<style scoped>\n",
       "    .dataframe tbody tr th:only-of-type {\n",
       "        vertical-align: middle;\n",
       "    }\n",
       "\n",
       "    .dataframe tbody tr th {\n",
       "        vertical-align: top;\n",
       "    }\n",
       "\n",
       "    .dataframe thead th {\n",
       "        text-align: right;\n",
       "    }\n",
       "</style>\n",
       "<table border=\"1\" class=\"dataframe\">\n",
       "  <thead>\n",
       "    <tr style=\"text-align: right;\">\n",
       "      <th></th>\n",
       "      <th>Age</th>\n",
       "      <th>Sex</th>\n",
       "      <th>ChestPainType</th>\n",
       "      <th>RestingBP</th>\n",
       "      <th>Cholesterol</th>\n",
       "      <th>FastingBS</th>\n",
       "      <th>RestingECG</th>\n",
       "      <th>MaxHR</th>\n",
       "      <th>ExerciseAngina</th>\n",
       "      <th>Oldpeak</th>\n",
       "      <th>ST_Slope</th>\n",
       "      <th>HeartDisease</th>\n",
       "    </tr>\n",
       "  </thead>\n",
       "  <tbody>\n",
       "    <tr>\n",
       "      <th>0</th>\n",
       "      <td>40</td>\n",
       "      <td>M</td>\n",
       "      <td>ATA</td>\n",
       "      <td>140</td>\n",
       "      <td>289</td>\n",
       "      <td>0</td>\n",
       "      <td>Normal</td>\n",
       "      <td>172</td>\n",
       "      <td>N</td>\n",
       "      <td>0.0</td>\n",
       "      <td>Up</td>\n",
       "      <td>0</td>\n",
       "    </tr>\n",
       "    <tr>\n",
       "      <th>1</th>\n",
       "      <td>49</td>\n",
       "      <td>F</td>\n",
       "      <td>NAP</td>\n",
       "      <td>160</td>\n",
       "      <td>180</td>\n",
       "      <td>0</td>\n",
       "      <td>Normal</td>\n",
       "      <td>156</td>\n",
       "      <td>N</td>\n",
       "      <td>1.0</td>\n",
       "      <td>Flat</td>\n",
       "      <td>1</td>\n",
       "    </tr>\n",
       "    <tr>\n",
       "      <th>2</th>\n",
       "      <td>37</td>\n",
       "      <td>M</td>\n",
       "      <td>ATA</td>\n",
       "      <td>130</td>\n",
       "      <td>283</td>\n",
       "      <td>0</td>\n",
       "      <td>ST</td>\n",
       "      <td>98</td>\n",
       "      <td>N</td>\n",
       "      <td>0.0</td>\n",
       "      <td>Up</td>\n",
       "      <td>0</td>\n",
       "    </tr>\n",
       "    <tr>\n",
       "      <th>3</th>\n",
       "      <td>48</td>\n",
       "      <td>F</td>\n",
       "      <td>ASY</td>\n",
       "      <td>138</td>\n",
       "      <td>214</td>\n",
       "      <td>0</td>\n",
       "      <td>Normal</td>\n",
       "      <td>108</td>\n",
       "      <td>Y</td>\n",
       "      <td>1.5</td>\n",
       "      <td>Flat</td>\n",
       "      <td>1</td>\n",
       "    </tr>\n",
       "    <tr>\n",
       "      <th>4</th>\n",
       "      <td>54</td>\n",
       "      <td>M</td>\n",
       "      <td>NAP</td>\n",
       "      <td>150</td>\n",
       "      <td>195</td>\n",
       "      <td>0</td>\n",
       "      <td>Normal</td>\n",
       "      <td>122</td>\n",
       "      <td>N</td>\n",
       "      <td>0.0</td>\n",
       "      <td>Up</td>\n",
       "      <td>0</td>\n",
       "    </tr>\n",
       "  </tbody>\n",
       "</table>\n",
       "</div>"
      ],
      "text/plain": [
       "   Age Sex ChestPainType  RestingBP  Cholesterol  FastingBS RestingECG  MaxHR  \\\n",
       "0   40   M           ATA        140          289          0     Normal    172   \n",
       "1   49   F           NAP        160          180          0     Normal    156   \n",
       "2   37   M           ATA        130          283          0         ST     98   \n",
       "3   48   F           ASY        138          214          0     Normal    108   \n",
       "4   54   M           NAP        150          195          0     Normal    122   \n",
       "\n",
       "  ExerciseAngina  Oldpeak ST_Slope  HeartDisease  \n",
       "0              N      0.0       Up             0  \n",
       "1              N      1.0     Flat             1  \n",
       "2              N      0.0       Up             0  \n",
       "3              Y      1.5     Flat             1  \n",
       "4              N      0.0       Up             0  "
      ]
     },
     "execution_count": 4,
     "metadata": {},
     "output_type": "execute_result"
    }
   ],
   "source": [
    "heart_data.head()"
   ]
  },
  {
   "cell_type": "code",
   "execution_count": 5,
   "id": "5752ac06-af21-4ad4-acae-203dbcdc2f1f",
   "metadata": {
    "scrolled": true
   },
   "outputs": [
    {
     "data": {
      "text/html": [
       "<div>\n",
       "<style scoped>\n",
       "    .dataframe tbody tr th:only-of-type {\n",
       "        vertical-align: middle;\n",
       "    }\n",
       "\n",
       "    .dataframe tbody tr th {\n",
       "        vertical-align: top;\n",
       "    }\n",
       "\n",
       "    .dataframe thead th {\n",
       "        text-align: right;\n",
       "    }\n",
       "</style>\n",
       "<table border=\"1\" class=\"dataframe\">\n",
       "  <thead>\n",
       "    <tr style=\"text-align: right;\">\n",
       "      <th></th>\n",
       "      <th>Age</th>\n",
       "      <th>RestingBP</th>\n",
       "      <th>Cholesterol</th>\n",
       "      <th>FastingBS</th>\n",
       "      <th>MaxHR</th>\n",
       "      <th>Oldpeak</th>\n",
       "      <th>HeartDisease</th>\n",
       "    </tr>\n",
       "  </thead>\n",
       "  <tbody>\n",
       "    <tr>\n",
       "      <th>count</th>\n",
       "      <td>918.000000</td>\n",
       "      <td>918.000000</td>\n",
       "      <td>918.000000</td>\n",
       "      <td>918.000000</td>\n",
       "      <td>918.000000</td>\n",
       "      <td>918.000000</td>\n",
       "      <td>918.000000</td>\n",
       "    </tr>\n",
       "    <tr>\n",
       "      <th>mean</th>\n",
       "      <td>53.510893</td>\n",
       "      <td>132.396514</td>\n",
       "      <td>198.799564</td>\n",
       "      <td>0.233115</td>\n",
       "      <td>136.809368</td>\n",
       "      <td>0.887364</td>\n",
       "      <td>0.553377</td>\n",
       "    </tr>\n",
       "    <tr>\n",
       "      <th>std</th>\n",
       "      <td>9.432617</td>\n",
       "      <td>18.514154</td>\n",
       "      <td>109.384145</td>\n",
       "      <td>0.423046</td>\n",
       "      <td>25.460334</td>\n",
       "      <td>1.066570</td>\n",
       "      <td>0.497414</td>\n",
       "    </tr>\n",
       "    <tr>\n",
       "      <th>min</th>\n",
       "      <td>28.000000</td>\n",
       "      <td>0.000000</td>\n",
       "      <td>0.000000</td>\n",
       "      <td>0.000000</td>\n",
       "      <td>60.000000</td>\n",
       "      <td>-2.600000</td>\n",
       "      <td>0.000000</td>\n",
       "    </tr>\n",
       "    <tr>\n",
       "      <th>25%</th>\n",
       "      <td>47.000000</td>\n",
       "      <td>120.000000</td>\n",
       "      <td>173.250000</td>\n",
       "      <td>0.000000</td>\n",
       "      <td>120.000000</td>\n",
       "      <td>0.000000</td>\n",
       "      <td>0.000000</td>\n",
       "    </tr>\n",
       "    <tr>\n",
       "      <th>50%</th>\n",
       "      <td>54.000000</td>\n",
       "      <td>130.000000</td>\n",
       "      <td>223.000000</td>\n",
       "      <td>0.000000</td>\n",
       "      <td>138.000000</td>\n",
       "      <td>0.600000</td>\n",
       "      <td>1.000000</td>\n",
       "    </tr>\n",
       "    <tr>\n",
       "      <th>75%</th>\n",
       "      <td>60.000000</td>\n",
       "      <td>140.000000</td>\n",
       "      <td>267.000000</td>\n",
       "      <td>0.000000</td>\n",
       "      <td>156.000000</td>\n",
       "      <td>1.500000</td>\n",
       "      <td>1.000000</td>\n",
       "    </tr>\n",
       "    <tr>\n",
       "      <th>90%</th>\n",
       "      <td>65.000000</td>\n",
       "      <td>160.000000</td>\n",
       "      <td>305.000000</td>\n",
       "      <td>1.000000</td>\n",
       "      <td>170.000000</td>\n",
       "      <td>2.300000</td>\n",
       "      <td>1.000000</td>\n",
       "    </tr>\n",
       "    <tr>\n",
       "      <th>max</th>\n",
       "      <td>77.000000</td>\n",
       "      <td>200.000000</td>\n",
       "      <td>603.000000</td>\n",
       "      <td>1.000000</td>\n",
       "      <td>202.000000</td>\n",
       "      <td>6.200000</td>\n",
       "      <td>1.000000</td>\n",
       "    </tr>\n",
       "  </tbody>\n",
       "</table>\n",
       "</div>"
      ],
      "text/plain": [
       "              Age   RestingBP  Cholesterol   FastingBS       MaxHR  \\\n",
       "count  918.000000  918.000000   918.000000  918.000000  918.000000   \n",
       "mean    53.510893  132.396514   198.799564    0.233115  136.809368   \n",
       "std      9.432617   18.514154   109.384145    0.423046   25.460334   \n",
       "min     28.000000    0.000000     0.000000    0.000000   60.000000   \n",
       "25%     47.000000  120.000000   173.250000    0.000000  120.000000   \n",
       "50%     54.000000  130.000000   223.000000    0.000000  138.000000   \n",
       "75%     60.000000  140.000000   267.000000    0.000000  156.000000   \n",
       "90%     65.000000  160.000000   305.000000    1.000000  170.000000   \n",
       "max     77.000000  200.000000   603.000000    1.000000  202.000000   \n",
       "\n",
       "          Oldpeak  HeartDisease  \n",
       "count  918.000000    918.000000  \n",
       "mean     0.887364      0.553377  \n",
       "std      1.066570      0.497414  \n",
       "min     -2.600000      0.000000  \n",
       "25%      0.000000      0.000000  \n",
       "50%      0.600000      1.000000  \n",
       "75%      1.500000      1.000000  \n",
       "90%      2.300000      1.000000  \n",
       "max      6.200000      1.000000  "
      ]
     },
     "execution_count": 5,
     "metadata": {},
     "output_type": "execute_result"
    }
   ],
   "source": [
    "heart_data.describe([.25,.50,.75,.90])"
   ]
  },
  {
   "cell_type": "markdown",
   "id": "7ae98c91-8c98-4e42-ad28-921ae2d340a8",
   "metadata": {},
   "source": [
    "## High-level understanding of numerical data \n",
    "\n",
    "### Age\n",
    "\n",
    "- **Minimum age** : 28 years,\n",
    "- **Maximum age** : 77 years,\n",
    "- **Average age** : 53 years,\n",
    "- **25th Percentile (P25)** : 47 years (25% of the sample is 47 years old or younger)\n",
    "- **90th Percentile (P90)** : 65 years (90% of the sample is 65 years old or younger)\n"
   ]
  },
  {
   "cell_type": "markdown",
   "id": "2e4901e7-9a8c-4c7f-bac7-582b9093a9f6",
   "metadata": {},
   "source": [
    "### Resting Blood Pressure\n",
    "\n",
    "- **Maximum Blood Pressure** : 200\n",
    "- **Minimum Blood Pressure** : 0 \n",
    "\n",
    "#### Minimum Blood Pressure has a recording of zero which seems to wrong. "
   ]
  },
  {
   "cell_type": "code",
   "execution_count": 6,
   "id": "8679a44a-f688-499d-83a8-271d4fcba759",
   "metadata": {},
   "outputs": [
    {
     "data": {
      "text/plain": [
       "917"
      ]
     },
     "execution_count": 6,
     "metadata": {},
     "output_type": "execute_result"
    }
   ],
   "source": [
    "# Count the number of samples which are having resting blood pressure as zero\n",
    "\n",
    "def heart()\n",
    "\n",
    "\n",
    "heart_data.head()\n",
    "resting_bp=heart_data['RestingBP']\n",
    "resting_bp[resting_bp > 0].count()"
   ]
  },
  {
   "cell_type": "markdown",
   "id": "f4e8d2d4-57a2-464e-b142-47872d6575f9",
   "metadata": {},
   "source": [
    "# Analysing sample which is having resting BP has zero so that it can be excluded "
   ]
  },
  {
   "cell_type": "code",
   "execution_count": 7,
   "id": "1fc251d2-d0e8-46bf-b222-3380136ce8f2",
   "metadata": {},
   "outputs": [
    {
     "data": {
      "text/html": [
       "<div>\n",
       "<style scoped>\n",
       "    .dataframe tbody tr th:only-of-type {\n",
       "        vertical-align: middle;\n",
       "    }\n",
       "\n",
       "    .dataframe tbody tr th {\n",
       "        vertical-align: top;\n",
       "    }\n",
       "\n",
       "    .dataframe thead th {\n",
       "        text-align: right;\n",
       "    }\n",
       "</style>\n",
       "<table border=\"1\" class=\"dataframe\">\n",
       "  <thead>\n",
       "    <tr style=\"text-align: right;\">\n",
       "      <th></th>\n",
       "      <th>Age</th>\n",
       "      <th>Sex</th>\n",
       "      <th>ChestPainType</th>\n",
       "      <th>RestingBP</th>\n",
       "      <th>Cholesterol</th>\n",
       "      <th>FastingBS</th>\n",
       "      <th>RestingECG</th>\n",
       "      <th>MaxHR</th>\n",
       "      <th>ExerciseAngina</th>\n",
       "      <th>Oldpeak</th>\n",
       "      <th>ST_Slope</th>\n",
       "      <th>HeartDisease</th>\n",
       "    </tr>\n",
       "  </thead>\n",
       "  <tbody>\n",
       "    <tr>\n",
       "      <th>449</th>\n",
       "      <td>55</td>\n",
       "      <td>M</td>\n",
       "      <td>NAP</td>\n",
       "      <td>0</td>\n",
       "      <td>0</td>\n",
       "      <td>0</td>\n",
       "      <td>Normal</td>\n",
       "      <td>155</td>\n",
       "      <td>N</td>\n",
       "      <td>1.5</td>\n",
       "      <td>Flat</td>\n",
       "      <td>1</td>\n",
       "    </tr>\n",
       "  </tbody>\n",
       "</table>\n",
       "</div>"
      ],
      "text/plain": [
       "     Age Sex ChestPainType  RestingBP  Cholesterol  FastingBS RestingECG  \\\n",
       "449   55   M           NAP          0            0          0     Normal   \n",
       "\n",
       "     MaxHR ExerciseAngina  Oldpeak ST_Slope  HeartDisease  \n",
       "449    155              N      1.5     Flat             1  "
      ]
     },
     "execution_count": 7,
     "metadata": {},
     "output_type": "execute_result"
    }
   ],
   "source": [
    "heart_data[heart_data['RestingBP']==0]"
   ]
  },
  {
   "cell_type": "markdown",
   "id": "9ea0890f-7af6-486d-b64d-fee381e57ea2",
   "metadata": {},
   "source": [
    "### It is noted that this samle can be excluded if we are making any prediction which involves RestingBP,Cholesterol,FastingBS Since the data missing"
   ]
  },
  {
   "cell_type": "code",
   "execution_count": 8,
   "id": "89a94ad0-f979-4c6b-9b19-194d63d0bc46",
   "metadata": {},
   "outputs": [],
   "source": [
    "heart_data_1 = heart_data.drop(449,axis=0)"
   ]
  },
  {
   "cell_type": "code",
   "execution_count": 9,
   "id": "b0f12518-e004-40a1-bec2-2b440ab36dcc",
   "metadata": {},
   "outputs": [
    {
     "data": {
      "text/plain": [
       "917"
      ]
     },
     "execution_count": 9,
     "metadata": {},
     "output_type": "execute_result"
    }
   ],
   "source": [
    "#Verify number of samples after eliminating the excluded data\n",
    "heart_data_1.shape[0]"
   ]
  },
  {
   "cell_type": "code",
   "execution_count": 10,
   "id": "9498c3d2-2269-4369-b575-4b735258bbf1",
   "metadata": {},
   "outputs": [
    {
     "data": {
      "text/html": [
       "<div>\n",
       "<style scoped>\n",
       "    .dataframe tbody tr th:only-of-type {\n",
       "        vertical-align: middle;\n",
       "    }\n",
       "\n",
       "    .dataframe tbody tr th {\n",
       "        vertical-align: top;\n",
       "    }\n",
       "\n",
       "    .dataframe thead th {\n",
       "        text-align: right;\n",
       "    }\n",
       "</style>\n",
       "<table border=\"1\" class=\"dataframe\">\n",
       "  <thead>\n",
       "    <tr style=\"text-align: right;\">\n",
       "      <th></th>\n",
       "      <th>Age</th>\n",
       "      <th>RestingBP</th>\n",
       "      <th>Cholesterol</th>\n",
       "      <th>FastingBS</th>\n",
       "      <th>MaxHR</th>\n",
       "      <th>Oldpeak</th>\n",
       "      <th>HeartDisease</th>\n",
       "    </tr>\n",
       "  </thead>\n",
       "  <tbody>\n",
       "    <tr>\n",
       "      <th>count</th>\n",
       "      <td>917.000000</td>\n",
       "      <td>917.000000</td>\n",
       "      <td>917.000000</td>\n",
       "      <td>917.000000</td>\n",
       "      <td>917.000000</td>\n",
       "      <td>917.000000</td>\n",
       "      <td>917.000000</td>\n",
       "    </tr>\n",
       "    <tr>\n",
       "      <th>mean</th>\n",
       "      <td>53.509269</td>\n",
       "      <td>132.540894</td>\n",
       "      <td>199.016358</td>\n",
       "      <td>0.233370</td>\n",
       "      <td>136.789531</td>\n",
       "      <td>0.886696</td>\n",
       "      <td>0.552890</td>\n",
       "    </tr>\n",
       "    <tr>\n",
       "      <th>std</th>\n",
       "      <td>9.437636</td>\n",
       "      <td>17.999749</td>\n",
       "      <td>109.246330</td>\n",
       "      <td>0.423206</td>\n",
       "      <td>25.467129</td>\n",
       "      <td>1.066960</td>\n",
       "      <td>0.497466</td>\n",
       "    </tr>\n",
       "    <tr>\n",
       "      <th>min</th>\n",
       "      <td>28.000000</td>\n",
       "      <td>80.000000</td>\n",
       "      <td>0.000000</td>\n",
       "      <td>0.000000</td>\n",
       "      <td>60.000000</td>\n",
       "      <td>-2.600000</td>\n",
       "      <td>0.000000</td>\n",
       "    </tr>\n",
       "    <tr>\n",
       "      <th>25%</th>\n",
       "      <td>47.000000</td>\n",
       "      <td>120.000000</td>\n",
       "      <td>174.000000</td>\n",
       "      <td>0.000000</td>\n",
       "      <td>120.000000</td>\n",
       "      <td>0.000000</td>\n",
       "      <td>0.000000</td>\n",
       "    </tr>\n",
       "    <tr>\n",
       "      <th>50%</th>\n",
       "      <td>54.000000</td>\n",
       "      <td>130.000000</td>\n",
       "      <td>223.000000</td>\n",
       "      <td>0.000000</td>\n",
       "      <td>138.000000</td>\n",
       "      <td>0.600000</td>\n",
       "      <td>1.000000</td>\n",
       "    </tr>\n",
       "    <tr>\n",
       "      <th>75%</th>\n",
       "      <td>60.000000</td>\n",
       "      <td>140.000000</td>\n",
       "      <td>267.000000</td>\n",
       "      <td>0.000000</td>\n",
       "      <td>156.000000</td>\n",
       "      <td>1.500000</td>\n",
       "      <td>1.000000</td>\n",
       "    </tr>\n",
       "    <tr>\n",
       "      <th>max</th>\n",
       "      <td>77.000000</td>\n",
       "      <td>200.000000</td>\n",
       "      <td>603.000000</td>\n",
       "      <td>1.000000</td>\n",
       "      <td>202.000000</td>\n",
       "      <td>6.200000</td>\n",
       "      <td>1.000000</td>\n",
       "    </tr>\n",
       "  </tbody>\n",
       "</table>\n",
       "</div>"
      ],
      "text/plain": [
       "              Age   RestingBP  Cholesterol   FastingBS       MaxHR  \\\n",
       "count  917.000000  917.000000   917.000000  917.000000  917.000000   \n",
       "mean    53.509269  132.540894   199.016358    0.233370  136.789531   \n",
       "std      9.437636   17.999749   109.246330    0.423206   25.467129   \n",
       "min     28.000000   80.000000     0.000000    0.000000   60.000000   \n",
       "25%     47.000000  120.000000   174.000000    0.000000  120.000000   \n",
       "50%     54.000000  130.000000   223.000000    0.000000  138.000000   \n",
       "75%     60.000000  140.000000   267.000000    0.000000  156.000000   \n",
       "max     77.000000  200.000000   603.000000    1.000000  202.000000   \n",
       "\n",
       "          Oldpeak  HeartDisease  \n",
       "count  917.000000    917.000000  \n",
       "mean     0.886696      0.552890  \n",
       "std      1.066960      0.497466  \n",
       "min     -2.600000      0.000000  \n",
       "25%      0.000000      0.000000  \n",
       "50%      0.600000      1.000000  \n",
       "75%      1.500000      1.000000  \n",
       "max      6.200000      1.000000  "
      ]
     },
     "execution_count": 10,
     "metadata": {},
     "output_type": "execute_result"
    }
   ],
   "source": [
    "heart_data_1.describe()"
   ]
  },
  {
   "cell_type": "markdown",
   "id": "72029145-2a58-4647-9e2d-c815c393f05c",
   "metadata": {},
   "source": [
    "### Resting Blood Pressure after removal of sample with zero values\n",
    "\n",
    "- **Maximum Blood Pressure** : 200\n",
    "- **Minimum Blood Pressure** : 80"
   ]
  },
  {
   "cell_type": "markdown",
   "id": "073fbbea-0976-4b8d-9b4a-53a9a8570a5f",
   "metadata": {},
   "source": [
    "### Cholesterol\n",
    "\n",
    "- **Maximum Cholestral** : 917\n",
    "- **Minimum Cholestral** : 0\n",
    "\n",
    "  #### Minimum Cholesterol has a recording of zero which seems to Wrong. "
   ]
  },
  {
   "cell_type": "code",
   "execution_count": 11,
   "id": "e0fe5b4b-696a-45dc-bfef-23562257db07",
   "metadata": {},
   "outputs": [
    {
     "data": {
      "text/plain": [
       "171"
      ]
     },
     "execution_count": 11,
     "metadata": {},
     "output_type": "execute_result"
    }
   ],
   "source": [
    "heart_data_1[heart_data_1['Cholesterol']==0].shape[0]"
   ]
  },
  {
   "cell_type": "markdown",
   "id": "391ca567-8916-4032-bfb3-9a12b88f0f84",
   "metadata": {},
   "source": [
    "### Count the number of samples which are having Cholesterol as zero\n",
    "### We cannot exclude all 171 values, 171 is approximately 18.66% of 918.\n",
    "### We can use the mean value to replace samples with zero cholestrol"
   ]
  },
  {
   "cell_type": "code",
   "execution_count": 12,
   "id": "c3020beb-6808-4a06-8b1e-47f1a4d07441",
   "metadata": {},
   "outputs": [
    {
     "data": {
      "text/html": [
       "<div>\n",
       "<style scoped>\n",
       "    .dataframe tbody tr th:only-of-type {\n",
       "        vertical-align: middle;\n",
       "    }\n",
       "\n",
       "    .dataframe tbody tr th {\n",
       "        vertical-align: top;\n",
       "    }\n",
       "\n",
       "    .dataframe thead th {\n",
       "        text-align: right;\n",
       "    }\n",
       "</style>\n",
       "<table border=\"1\" class=\"dataframe\">\n",
       "  <thead>\n",
       "    <tr style=\"text-align: right;\">\n",
       "      <th></th>\n",
       "      <th>Age</th>\n",
       "      <th>RestingBP</th>\n",
       "      <th>Cholesterol</th>\n",
       "      <th>FastingBS</th>\n",
       "      <th>MaxHR</th>\n",
       "      <th>Oldpeak</th>\n",
       "      <th>HeartDisease</th>\n",
       "    </tr>\n",
       "  </thead>\n",
       "  <tbody>\n",
       "    <tr>\n",
       "      <th>count</th>\n",
       "      <td>746.000000</td>\n",
       "      <td>746.000000</td>\n",
       "      <td>746.000000</td>\n",
       "      <td>746.000000</td>\n",
       "      <td>746.000000</td>\n",
       "      <td>746.000000</td>\n",
       "      <td>746.000000</td>\n",
       "    </tr>\n",
       "    <tr>\n",
       "      <th>mean</th>\n",
       "      <td>52.882038</td>\n",
       "      <td>133.022788</td>\n",
       "      <td>244.635389</td>\n",
       "      <td>0.167560</td>\n",
       "      <td>140.226542</td>\n",
       "      <td>0.901609</td>\n",
       "      <td>0.477212</td>\n",
       "    </tr>\n",
       "    <tr>\n",
       "      <th>std</th>\n",
       "      <td>9.505888</td>\n",
       "      <td>17.282750</td>\n",
       "      <td>59.153524</td>\n",
       "      <td>0.373726</td>\n",
       "      <td>24.524107</td>\n",
       "      <td>1.072861</td>\n",
       "      <td>0.499816</td>\n",
       "    </tr>\n",
       "    <tr>\n",
       "      <th>min</th>\n",
       "      <td>28.000000</td>\n",
       "      <td>92.000000</td>\n",
       "      <td>85.000000</td>\n",
       "      <td>0.000000</td>\n",
       "      <td>69.000000</td>\n",
       "      <td>-0.100000</td>\n",
       "      <td>0.000000</td>\n",
       "    </tr>\n",
       "    <tr>\n",
       "      <th>25%</th>\n",
       "      <td>46.000000</td>\n",
       "      <td>120.000000</td>\n",
       "      <td>207.250000</td>\n",
       "      <td>0.000000</td>\n",
       "      <td>122.000000</td>\n",
       "      <td>0.000000</td>\n",
       "      <td>0.000000</td>\n",
       "    </tr>\n",
       "    <tr>\n",
       "      <th>50%</th>\n",
       "      <td>54.000000</td>\n",
       "      <td>130.000000</td>\n",
       "      <td>237.000000</td>\n",
       "      <td>0.000000</td>\n",
       "      <td>140.000000</td>\n",
       "      <td>0.500000</td>\n",
       "      <td>0.000000</td>\n",
       "    </tr>\n",
       "    <tr>\n",
       "      <th>75%</th>\n",
       "      <td>59.000000</td>\n",
       "      <td>140.000000</td>\n",
       "      <td>275.000000</td>\n",
       "      <td>0.000000</td>\n",
       "      <td>160.000000</td>\n",
       "      <td>1.500000</td>\n",
       "      <td>1.000000</td>\n",
       "    </tr>\n",
       "    <tr>\n",
       "      <th>max</th>\n",
       "      <td>77.000000</td>\n",
       "      <td>200.000000</td>\n",
       "      <td>603.000000</td>\n",
       "      <td>1.000000</td>\n",
       "      <td>202.000000</td>\n",
       "      <td>6.200000</td>\n",
       "      <td>1.000000</td>\n",
       "    </tr>\n",
       "  </tbody>\n",
       "</table>\n",
       "</div>"
      ],
      "text/plain": [
       "              Age   RestingBP  Cholesterol   FastingBS       MaxHR  \\\n",
       "count  746.000000  746.000000   746.000000  746.000000  746.000000   \n",
       "mean    52.882038  133.022788   244.635389    0.167560  140.226542   \n",
       "std      9.505888   17.282750    59.153524    0.373726   24.524107   \n",
       "min     28.000000   92.000000    85.000000    0.000000   69.000000   \n",
       "25%     46.000000  120.000000   207.250000    0.000000  122.000000   \n",
       "50%     54.000000  130.000000   237.000000    0.000000  140.000000   \n",
       "75%     59.000000  140.000000   275.000000    0.000000  160.000000   \n",
       "max     77.000000  200.000000   603.000000    1.000000  202.000000   \n",
       "\n",
       "          Oldpeak  HeartDisease  \n",
       "count  746.000000    746.000000  \n",
       "mean     0.901609      0.477212  \n",
       "std      1.072861      0.499816  \n",
       "min     -0.100000      0.000000  \n",
       "25%      0.000000      0.000000  \n",
       "50%      0.500000      0.000000  \n",
       "75%      1.500000      1.000000  \n",
       "max      6.200000      1.000000  "
      ]
     },
     "execution_count": 12,
     "metadata": {},
     "output_type": "execute_result"
    }
   ],
   "source": [
    "heart_data_1[heart_data_1['Cholesterol']!=0].describe()"
   ]
  },
  {
   "cell_type": "code",
   "execution_count": 13,
   "id": "35f3ed8e-7a87-4ec6-a376-ef5bb3dea642",
   "metadata": {},
   "outputs": [],
   "source": [
    "import seaborn as sns\n",
    "import matplotlib.pyplot as plt"
   ]
  },
  {
   "cell_type": "code",
   "execution_count": 15,
   "id": "b1022725-2ff3-46b6-a565-e365e930afff",
   "metadata": {},
   "outputs": [
    {
     "ename": "NameError",
     "evalue": "name 'colestral_values' is not defined",
     "output_type": "error",
     "traceback": [
      "\u001b[0;31m---------------------------------------------------------------------------\u001b[0m",
      "\u001b[0;31mNameError\u001b[0m                                 Traceback (most recent call last)",
      "Cell \u001b[0;32mIn[15], line 2\u001b[0m\n\u001b[1;32m      1\u001b[0m colestral_values_1 \u001b[38;5;241m=\u001b[39m heart_data_1[heart_data_1[\u001b[38;5;124m'\u001b[39m\u001b[38;5;124mCholesterol\u001b[39m\u001b[38;5;124m'\u001b[39m]\u001b[38;5;241m>\u001b[39m\u001b[38;5;241m0\u001b[39m]\n\u001b[0;32m----> 2\u001b[0m \u001b[38;5;28mtype\u001b[39m(colestral_values)\n\u001b[1;32m      4\u001b[0m df1 \u001b[38;5;241m=\u001b[39m colestral_values_1\u001b[38;5;241m.\u001b[39mreset_index()\n\u001b[1;32m      5\u001b[0m \u001b[38;5;28mtype\u001b[39m(df1)\n",
      "\u001b[0;31mNameError\u001b[0m: name 'colestral_values' is not defined"
     ]
    }
   ],
   "source": [
    "\n",
    "colestral_values_1 = heart_data_1[heart_data_1['Cholesterol']>0]\n",
    "type(colestral_values)\n",
    "\n",
    "df1 = colestral_values_1.reset_index()\n",
    "type(df1)\n",
    "\n",
    "\n",
    "sns.barplot(data=df1,x=df1['index'],y=df1['Cholesterol'])"
   ]
  },
  {
   "cell_type": "markdown",
   "id": "434dddf7-2394-49c6-857a-2160cc23423b",
   "metadata": {},
   "source": [
    "### By looking at the above visualisation we can conclude that using mean value for further analysis can be done. Since there are outliers towards upper bound"
   ]
  },
  {
   "cell_type": "code",
   "execution_count": null,
   "id": "f0d19272-c3ce-4280-a5d9-1c5b6e82ecc8",
   "metadata": {},
   "outputs": [],
   "source": [
    "heart_data_1['Cholesterol'].replace(0,value=heart_data_1['Cholesterol'].mean(),inplace=True)\n",
    "heart_data_1.describe()"
   ]
  },
  {
   "cell_type": "markdown",
   "id": "d5801883-e0b9-4d2c-9e58-f62f80fe0cc4",
   "metadata": {},
   "source": [
    "### We can observe that after replacing the cholestrol with mean values there is no much deviation in the std and mean of Cholestrol column"
   ]
  },
  {
   "cell_type": "markdown",
   "id": "b8899e46-8e6b-4ecf-9782-7ec017380800",
   "metadata": {},
   "source": [
    "### FastingBS \n",
    "\n",
    "### LDL Cholesterol - if greater 120 it is Bad (1) less than 120 is good (0)\n",
    "\n",
    "*703 Samples* : Have value 1  "
   ]
  },
  {
   "cell_type": "code",
   "execution_count": null,
   "id": "504ebd79-e6ab-4849-aaa7-fed975d22c2c",
   "metadata": {},
   "outputs": [],
   "source": [
    "heart_data_1[heart_data_1['FastingBS'] == 0].shape[0]"
   ]
  },
  {
   "cell_type": "markdown",
   "id": "e4dea78c-7f4e-4d78-b70e-926048b17b3a",
   "metadata": {},
   "source": [
    "## MaX Heart Rate\n",
    "\n",
    "- **Maximum Max Heart Rate** : 202\n",
    "- **Minimum Max Heart Rate** : 60"
   ]
  },
  {
   "cell_type": "code",
   "execution_count": null,
   "id": "3bc879cc-8962-4cd2-a89d-fe5f3efb6119",
   "metadata": {},
   "outputs": [],
   "source": [
    "heart_data_1[heart_data_1['HeartDisease'] == 1].shape[0]"
   ]
  },
  {
   "cell_type": "markdown",
   "id": "88654b29-494c-4f51-a19e-aa63f8e214ec",
   "metadata": {},
   "source": [
    "## Heart Disease \n",
    "\n",
    "- **Has Heart Disease** : 410\n",
    "- **No Heart Disease** : 507\n"
   ]
  },
  {
   "cell_type": "code",
   "execution_count": null,
   "id": "3013c773-33d0-489b-a825-5222a79d3932",
   "metadata": {},
   "outputs": [],
   "source": [
    "heart_data_1.head()"
   ]
  },
  {
   "cell_type": "code",
   "execution_count": null,
   "id": "b24e0104-fd42-4ad6-82d3-4395e552be5e",
   "metadata": {},
   "outputs": [],
   "source": [
    "heart_data_1['Sex'].nunique()"
   ]
  },
  {
   "cell_type": "code",
   "execution_count": null,
   "id": "9f0a21d9-d75c-452c-b2d9-4c7e6343decd",
   "metadata": {},
   "outputs": [],
   "source": [
    "heart_data_1['Sex']"
   ]
  },
  {
   "cell_type": "code",
   "execution_count": null,
   "id": "1b6cc170-ad3a-4396-a3bc-355b438e37bb",
   "metadata": {},
   "outputs": [],
   "source": [
    "heart_data_1['Sex'].value_counts()"
   ]
  },
  {
   "cell_type": "markdown",
   "id": "cecdd14e-7482-409c-b19f-4633163891da",
   "metadata": {},
   "source": [
    "### Sex\n",
    "\n",
    "- ** Male ** : 724\n",
    "- ** FeMale ** : 193"
   ]
  },
  {
   "cell_type": "code",
   "execution_count": null,
   "id": "a5d4f704-9ea8-4129-ad15-2b5beaeff4a5",
   "metadata": {},
   "outputs": [],
   "source": [
    "heart_data_1['ChestPainType'].nunique()"
   ]
  },
  {
   "cell_type": "code",
   "execution_count": null,
   "id": "a7e3d11e-9b48-420c-a2af-10613b74fc09",
   "metadata": {},
   "outputs": [],
   "source": [
    "heart_data_1['ChestPainType'].value_counts()"
   ]
  },
  {
   "cell_type": "markdown",
   "id": "22989bf3-09e4-43b0-8056-53577bca9ff3",
   "metadata": {},
   "source": [
    "## Chest Pain Type\n",
    "\n",
    "## TA: Typical Angina, ATA: Atypical Angina, NAP: Non-Anginal Pain, ASY: Asymptomatic\n",
    "\n",
    "- **ASY** : 496\n",
    "- **NAP** : 202\n",
    "- **ATA**  : 173\n",
    "- **TA** : 46\n",
    "\n"
   ]
  },
  {
   "cell_type": "code",
   "execution_count": null,
   "id": "a5ca3d35-7135-43de-a1b6-e3dda858353e",
   "metadata": {},
   "outputs": [],
   "source": [
    "heart_data_1['RestingECG'].nunique()"
   ]
  },
  {
   "cell_type": "code",
   "execution_count": null,
   "id": "b0785c9f-1ea4-43a0-a3d0-8e19537cfa1d",
   "metadata": {},
   "outputs": [],
   "source": [
    "heart_data_1['RestingECG'].value_counts()"
   ]
  },
  {
   "cell_type": "markdown",
   "id": "d5fdb6f0-ca1a-4aeb-978e-2052938d1be6",
   "metadata": {},
   "source": [
    "### RestingECG\n",
    "\n",
    "- **Normal** : 551\n",
    "- **LVH** : 188\n",
    "- **ST**  : 178\n",
    "\n"
   ]
  },
  {
   "cell_type": "code",
   "execution_count": null,
   "id": "803d7219-ada2-47df-9979-8ba164ee0940",
   "metadata": {},
   "outputs": [],
   "source": [
    "### ExerciseAngina\n",
    "heart_data_1['ExerciseAngina'].value_counts()"
   ]
  },
  {
   "cell_type": "markdown",
   "id": "9be14270-bccc-4d78-b0cf-0dc6c0e9d525",
   "metadata": {},
   "source": [
    "### ExerciseAngina - Personal feels heart pain during exercise\n",
    "\n",
    "- **N** : 546\n",
    "- **Y** : 371"
   ]
  },
  {
   "cell_type": "code",
   "execution_count": null,
   "id": "e0feda96-22e7-43e5-a071-694fc503c579",
   "metadata": {},
   "outputs": [],
   "source": [
    "heart_data_1['ST_Slope'].value_counts()"
   ]
  },
  {
   "cell_type": "markdown",
   "id": "f8fde7ee-5702-4800-8021-2d71799810cc",
   "metadata": {},
   "source": [
    "## ST_Slope\n",
    "\n",
    "Flat and Up are considered Normal \n",
    "down is considered to be having some cardio vascular disease\n",
    "\n",
    "- **Flat** : 459\n",
    "- **Up** : 395\n",
    "- **Down** : 63"
   ]
  },
  {
   "cell_type": "markdown",
   "id": "5ee4182f-c083-4f21-9372-82506930ca57",
   "metadata": {},
   "source": [
    "## Age & Heart disease"
   ]
  },
  {
   "cell_type": "code",
   "execution_count": null,
   "id": "d481a4b3-2af2-4d47-bfc7-0de51f4f1b19",
   "metadata": {},
   "outputs": [],
   "source": [
    "heart_data_1.head()"
   ]
  },
  {
   "cell_type": "code",
   "execution_count": null,
   "id": "b2860c6c-c59d-45dd-b716-6cd6fb786ee3",
   "metadata": {},
   "outputs": [],
   "source": [
    "sns.categorical.countplot(heart_data_1,x='HeartDisease',hue='Sex')"
   ]
  },
  {
   "cell_type": "code",
   "execution_count": null,
   "id": "c9175475-da60-4515-aa23-4c4a49d377b9",
   "metadata": {},
   "outputs": [],
   "source": [
    "\n",
    "sns.categorical.countplot(heart_data_1,x='Sex')"
   ]
  },
  {
   "cell_type": "code",
   "execution_count": null,
   "id": "740a4f53-9b8d-4de9-9e4c-596b2720a646",
   "metadata": {},
   "outputs": [],
   "source": [
    "sns.barplot(heart_data_1,y='ExerciseAngina',x='HeartDisease')"
   ]
  },
  {
   "cell_type": "code",
   "execution_count": null,
   "id": "619b2aac-eb29-473a-81f8-557f0531ac7a",
   "metadata": {},
   "outputs": [],
   "source": [
    "sns.boxplot(data=heart_data_1[heart_data_1['HeartDisease']==0].RestingBP)"
   ]
  },
  {
   "cell_type": "code",
   "execution_count": null,
   "id": "0ed03d21-e32e-499d-8039-6b8c21033e09",
   "metadata": {},
   "outputs": [],
   "source": []
  }
 ],
 "metadata": {
  "kernelspec": {
   "display_name": "Python 3 (ipykernel)",
   "language": "python",
   "name": "python3"
  },
  "language_info": {
   "codemirror_mode": {
    "name": "ipython",
    "version": 3
   },
   "file_extension": ".py",
   "mimetype": "text/x-python",
   "name": "python",
   "nbconvert_exporter": "python",
   "pygments_lexer": "ipython3",
   "version": "3.11.7"
  }
 },
 "nbformat": 4,
 "nbformat_minor": 5
}
